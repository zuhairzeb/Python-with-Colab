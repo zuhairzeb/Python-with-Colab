{
  "nbformat": 4,
  "nbformat_minor": 0,
  "metadata": {
    "colab": {
      "provenance": [],
      "authorship_tag": "ABX9TyMFsH1KxSB48WWzjFoiXEJu",
      "include_colab_link": true
    },
    "kernelspec": {
      "name": "python3",
      "display_name": "Python 3"
    },
    "language_info": {
      "name": "python"
    }
  },
  "cells": [
    {
      "cell_type": "markdown",
      "metadata": {
        "id": "view-in-github",
        "colab_type": "text"
      },
      "source": [
        "<a href=\"https://colab.research.google.com/github/zuhairzeb/Python-with-Colab/blob/main/Python_with_Colab.ipynb\" target=\"_parent\"><img src=\"https://colab.research.google.com/assets/colab-badge.svg\" alt=\"Open In Colab\"/></a>"
      ]
    },
    {
      "cell_type": "code",
      "execution_count": null,
      "metadata": {
        "colab": {
          "base_uri": "https://localhost:8080/"
        },
        "id": "M-_lX0ZpmTGC",
        "outputId": "3ea3195a-ab1a-4f28-fdee-bb2c05eb55d7"
      },
      "outputs": [
        {
          "output_type": "stream",
          "name": "stdout",
          "text": [
            "Hello World\n"
          ]
        }
      ],
      "source": [
        "# prompt: write a hello world program\n",
        "\n",
        "print(\"Hello World\")\n"
      ]
    },
    {
      "cell_type": "code",
      "source": [
        "# prompt: My name is Zuhair zeb. Write hello world code which say hello to me\n",
        "\n",
        "print(\"Hello Zuhair zeb\")\n"
      ],
      "metadata": {
        "colab": {
          "base_uri": "https://localhost:8080/"
        },
        "id": "fx85MXPHm-P2",
        "outputId": "17d972b0-0975-4a99-dfa7-6b4e2c9fcad7"
      },
      "execution_count": null,
      "outputs": [
        {
          "output_type": "stream",
          "name": "stdout",
          "text": [
            "Hello Zuhair zeb\n"
          ]
        }
      ]
    },
    {
      "cell_type": "code",
      "source": [
        "# prompt: Say hello to some one you love\n",
        "\n",
        "print(\"Hello Mom!\")\n"
      ],
      "metadata": {
        "colab": {
          "base_uri": "https://localhost:8080/"
        },
        "id": "nahiNPD0tzR9",
        "outputId": "4fba78bc-7939-4226-8760-f5478b673cdb"
      },
      "execution_count": null,
      "outputs": [
        {
          "output_type": "stream",
          "name": "stdout",
          "text": [
            "Hello Mom!\n"
          ]
        }
      ]
    },
    {
      "cell_type": "code",
      "source": [
        "# prompt: write a comments in code\n",
        "\n",
        "# This is a comment\n",
        "print(\"This is code\")\n"
      ],
      "metadata": {
        "colab": {
          "base_uri": "https://localhost:8080/"
        },
        "id": "JJiT6uUhuKh8",
        "outputId": "3e8326c8-0463-4c20-f0d4-1f165e8a2949"
      },
      "execution_count": null,
      "outputs": [
        {
          "output_type": "stream",
          "name": "stdout",
          "text": [
            "This is code\n"
          ]
        }
      ]
    },
    {
      "cell_type": "code",
      "source": [
        "print(\"py\")"
      ],
      "metadata": {
        "colab": {
          "base_uri": "https://localhost:8080/"
        },
        "id": "A62fYMo-uQls",
        "outputId": "3e6fe26f-8fd5-4bf7-e121-4755e79e3d2a"
      },
      "execution_count": null,
      "outputs": [
        {
          "output_type": "stream",
          "name": "stdout",
          "text": [
            "py\n"
          ]
        }
      ]
    },
    {
      "cell_type": "code",
      "source": [
        "# prompt: please correct the error in previous cell\n",
        "\n",
        "print(\"py\")\n"
      ],
      "metadata": {
        "colab": {
          "base_uri": "https://localhost:8080/"
        },
        "id": "rFfPRQnRvAA8",
        "outputId": "ef6787b6-e8c5-45e1-fa06-2009e2ba07b3"
      },
      "execution_count": null,
      "outputs": [
        {
          "output_type": "stream",
          "name": "stdout",
          "text": [
            "py\n"
          ]
        }
      ]
    },
    {
      "cell_type": "code",
      "source": [
        "# prompt: write a code that display your favourite color\n",
        "\n",
        "print(\"My favourite color is blue\")\n"
      ],
      "metadata": {
        "colab": {
          "base_uri": "https://localhost:8080/"
        },
        "id": "jKfkbYMPvrQ7",
        "outputId": "60b9a78a-bef3-4859-b0e8-00d9a1f88f1a"
      },
      "execution_count": null,
      "outputs": [
        {
          "output_type": "stream",
          "name": "stdout",
          "text": [
            "My favourite color is blue\n"
          ]
        }
      ]
    },
    {
      "cell_type": "code",
      "source": [
        "# prompt: Write code that answers the question \"How are you feeling today?\n",
        "\n",
        "print(\"I am an AI, I do not have feelings.\")\n"
      ],
      "metadata": {
        "colab": {
          "base_uri": "https://localhost:8080/"
        },
        "id": "WXylYxv-wZUc",
        "outputId": "1b2313c5-5979-4779-de4f-cd1180d4752f"
      },
      "execution_count": null,
      "outputs": [
        {
          "output_type": "stream",
          "name": "stdout",
          "text": [
            "I am an AI, I do not have feelings.\n"
          ]
        }
      ]
    },
    {
      "cell_type": "code",
      "source": [
        "# prompt: Alter your code from the previous cell so that it will cause an error when you run it\n",
        "\n",
        "print(\"Hello World\")\n"
      ],
      "metadata": {
        "colab": {
          "base_uri": "https://localhost:8080/",
          "height": 106
        },
        "id": "7fMryT-8wdpT",
        "outputId": "a36c19d4-c0b4-4066-fb84-6c72eff7cf86"
      },
      "execution_count": null,
      "outputs": [
        {
          "output_type": "error",
          "ename": "SyntaxError",
          "evalue": "incomplete input (<ipython-input-18-7478375ea5cd>, line 3)",
          "traceback": [
            "\u001b[0;36m  File \u001b[0;32m\"<ipython-input-18-7478375ea5cd>\"\u001b[0;36m, line \u001b[0;32m3\u001b[0m\n\u001b[0;31m    print(\"Hello World\"\u001b[0m\n\u001b[0m                       ^\u001b[0m\n\u001b[0;31mSyntaxError\u001b[0m\u001b[0;31m:\u001b[0m incomplete input\n"
          ]
        }
      ]
    },
    {
      "cell_type": "code",
      "source": [
        "# prompt:  Ask an LLM to help you fix the error in the code in the previous cell (or fix yourself) and\n",
        "#  then type the corrected code on the next line:\n",
        "\n",
        "print(\"Hello World\")\n",
        "print(\"Hello Zuhair zeb\")\n",
        "print(\"Hello Mom!\")\n",
        "# This is a comment\n",
        "print(\"This is code\")\n",
        "print(\"py\")\n",
        "print(\"py\")\n",
        "print(\"My favourite color is blue\")\n",
        "print(\"I am an AI, I do not have feelings.\")\n",
        "print(\"Hello World\")\n"
      ],
      "metadata": {
        "id": "q999zxLLwmOS",
        "outputId": "56c915d1-0df0-4064-bed8-534fc02c71a8",
        "colab": {
          "base_uri": "https://localhost:8080/"
        }
      },
      "execution_count": null,
      "outputs": [
        {
          "output_type": "stream",
          "name": "stdout",
          "text": [
            "Hello World\n",
            "Hello Zuhair zeb\n",
            "Hello Mom!\n",
            "This is code\n",
            "py\n",
            "py\n",
            "My favourite color is blue\n",
            "I am an AI, I do not have feelings.\n",
            "Hello World\n"
          ]
        }
      ]
    }
  ]
}